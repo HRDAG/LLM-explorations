{
 "cells": [
  {
   "cell_type": "markdown",
   "id": "8f306788",
   "metadata": {},
   "source": [
    "# Credentials\n",
    "##### A VERY IMPORTANT note\n",
    "In order to access one of these models, you will need to have credentials in the form of an **API key**. Similarly to SSH keys, part of this is private and it is extremely important not to share or (accidentally) make it public. Without the secret part, you won't be able to do the thing. \n",
    "\n",
    "When you sign up for an account with OpenAI, you will have an [\"API Keys\" tab](https://platform.openai.com/api-keys) where you can make new keys and view existing ones. ***Crucially, when you generate a new key, the secret part will be shown to you once during that process, and then never again.*** If you lose it or make it public, you will need to make a new one. \n",
    "\n",
    "In this demo, and in other projects, I store my private key in a text file in a credentials folder of my dotfiles, `\"../../../dotfiles/creds/openai\"`. Since my dotfiles get pushed to GitHub, I also have a `.gitignore` file in that repo that ignores the `creds` folder, so that I don't accidentally make it public. With this structure, I can use a handy `getcreds()` method that just reads the text file and loads the key into this notebook environment, without me pasting it here or into a `.bashrc` file.\n",
    "- This notebook is setup for this style of credentialling because it's what I use, but there are other ways to do this kind of thing secretly and flexibly, each one has their tradeoffs. Please feel free to explore other methods or use what you know already!\n",
    "\n",
    "# setup \n",
    "##### OpenAI steps\n",
    "- [ ] sign up for an account\n",
    "- [ ] if applicable, follow a link to join an organization\n",
    "    - **note about using an 'organization' during signup:** the platform doesn't intuitively merge identically named organizations you're connected to, so if you list \"HRDAG\" when you sign up and then join \"hrdag\" via invite later, you will be a member of two organizations with separate IDs. If you rename \"HRDAG\" to \"hrdag\", it won't prompt you to pick a different name. You will just be a member of two identically-named \"hrdag\" teams, one with other team members and account funds, and one with just you that was generated and renamed by you.\n",
    "    - The Organizations tab in Settings has an editable name field and an uneditable \"Organization ID\" field. There's no option to delete the org.\n",
    "    - The Team tab in Settings has an option to Leave, but you can't leave a team you are the sole Owner of without transferring ownership, even if you are also the only member.\n",
    "    - No help topics about deleting the org, closest is deleting account. I don't feel like contacting support about this. I renamed the org I signed up under as \"hrdag-backup\". \n",
    "- [ ] follow the first few steps in the [developer quickstart guide](https://platform.openai.com/docs/quickstart?context=python)\n",
    "    - [ ] install the `openai` python package\n",
    "    - [ ] setup the `OPENAI_API_KEY` environment variable (as described in \"Credentials\" above)\n",
    "    - [ ] try the `openai-test.py` script under \"Sending your first API request\" with the suggested code and make sure it runs successfully"
   ]
  },
  {
   "cell_type": "code",
   "execution_count": 1,
   "id": "8f9d1dd7",
   "metadata": {
    "code_folding": [],
    "run_control": {
     "marked": true
    }
   },
   "outputs": [],
   "source": [
    "# depedencies\n",
    "from langchain_openai import ChatOpenAI\n",
    "from langchain.prompts import ChatPromptTemplate"
   ]
  },
  {
   "cell_type": "code",
   "execution_count": 2,
   "id": "7e67613b",
   "metadata": {
    "code_folding": [],
    "run_control": {
     "marked": true
    }
   },
   "outputs": [],
   "source": [
    "# support methods\n",
    "def getcreds():\n",
    "    with open('../../../../dotfiles/creds/openai') as f:\n",
    "        out = f.readline().strip()\n",
    "    return out\n",
    "\n",
    "\n",
    "def query_model(topic):\n",
    "    res = chain.invoke({'topic': topic})\n",
    "    return res.content.strip()"
   ]
  },
  {
   "cell_type": "code",
   "execution_count": 3,
   "id": "8726c3a5",
   "metadata": {
    "code_folding": [],
    "run_control": {
     "marked": true
    }
   },
   "outputs": [],
   "source": [
    "# main\n",
    "# base setup\n",
    "OPENAI_API_KEY = getcreds()\n",
    "\n",
    "# model setup\n",
    "llm = ChatOpenAI(model_name='gpt-3.5-turbo', temperature=0, openai_api_key=OPENAI_API_KEY)"
   ]
  },
  {
   "cell_type": "markdown",
   "id": "0ad833c2",
   "metadata": {},
   "source": [
    "# prompt"
   ]
  },
  {
   "cell_type": "code",
   "execution_count": 4,
   "id": "b3a1799c",
   "metadata": {},
   "outputs": [],
   "source": [
    "# joke setup\n",
    "prompt = ChatPromptTemplate.from_template(\"tell me a joke about {topic}\")\n",
    "chain = prompt | llm"
   ]
  },
  {
   "cell_type": "code",
   "execution_count": 5,
   "id": "093c0fee",
   "metadata": {},
   "outputs": [],
   "source": [
    "res = query_model('programming')"
   ]
  },
  {
   "cell_type": "code",
   "execution_count": 6,
   "id": "5c454ace",
   "metadata": {},
   "outputs": [
    {
     "name": "stdout",
     "output_type": "stream",
     "text": [
      "Why do programmers prefer dark mode? Because the light attracts bugs!\n"
     ]
    }
   ],
   "source": [
    "print(res)"
   ]
  },
  {
   "cell_type": "code",
   "execution_count": 7,
   "id": "068fc77b-c85d-4bd8-816b-dc92c2be23ba",
   "metadata": {},
   "outputs": [],
   "source": [
    "res = query_model('python')"
   ]
  },
  {
   "cell_type": "code",
   "execution_count": 8,
   "id": "6fa1c5f6-9925-49e0-aeee-7191568219b0",
   "metadata": {},
   "outputs": [
    {
     "name": "stdout",
     "output_type": "stream",
     "text": [
      "Why did the python programmer go broke?\n",
      "\n",
      "Because he couldn't C#!\n"
     ]
    }
   ],
   "source": [
    "print(res)"
   ]
  },
  {
   "cell_type": "code",
   "execution_count": null,
   "id": "15b74cf0-09c0-4322-b045-4ad053910a80",
   "metadata": {},
   "outputs": [],
   "source": []
  }
 ],
 "metadata": {
  "kernelspec": {
   "display_name": "Python 3 (ipykernel)",
   "language": "python",
   "name": "python3"
  },
  "language_info": {
   "codemirror_mode": {
    "name": "ipython",
    "version": 3
   },
   "file_extension": ".py",
   "mimetype": "text/x-python",
   "name": "python",
   "nbconvert_exporter": "python",
   "pygments_lexer": "ipython3",
   "version": "3.12.4"
  },
  "toc": {
   "base_numbering": 1,
   "nav_menu": {},
   "number_sections": true,
   "sideBar": true,
   "skip_h1_title": false,
   "title_cell": "Table of Contents",
   "title_sidebar": "Contents",
   "toc_cell": false,
   "toc_position": {},
   "toc_section_display": true,
   "toc_window_display": false
  },
  "varInspector": {
   "cols": {
    "lenName": 16,
    "lenType": 16,
    "lenVar": 40
   },
   "kernels_config": {
    "python": {
     "delete_cmd_postfix": "",
     "delete_cmd_prefix": "del ",
     "library": "var_list.py",
     "varRefreshCmd": "print(var_dic_list())"
    },
    "r": {
     "delete_cmd_postfix": ") ",
     "delete_cmd_prefix": "rm(",
     "library": "var_list.r",
     "varRefreshCmd": "cat(var_dic_list()) "
    }
   },
   "types_to_exclude": [
    "module",
    "function",
    "builtin_function_or_method",
    "instance",
    "_Feature"
   ],
   "window_display": false
  }
 },
 "nbformat": 4,
 "nbformat_minor": 5
}
